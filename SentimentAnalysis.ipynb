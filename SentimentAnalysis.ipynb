{
 "cells": [
  {
   "cell_type": "code",
   "execution_count": 1,
   "id": "a591df42-bb12-465f-b2ca-112883e260b5",
   "metadata": {},
   "outputs": [],
   "source": [
    "#from IPython.core.magic import register_line_magic\n",
    "\n",
    "#@register_line_magic\n",
    "##3def pip(args):\n",
    "    #\"\"\"Use pip from the current kernel\"\"\"\n",
    "    #from pip import main\n",
    "    #main(args.split())"
   ]
  },
  {
   "cell_type": "code",
   "execution_count": 1,
   "id": "45ffba61-4f09-4fc4-b6bf-35b2ae07284e",
   "metadata": {},
   "outputs": [],
   "source": [
    "##%pip install yahoo_fin --upgrade\n",
    "##%pip install requests_html\n",
    "#!pip uninstall -y yfinance\n",
    "#%pip install yfinance --upgrade --no-cache-dir\n",
    "#pip install get-all-tickers\n",
    "#%pip install reticker"
   ]
  },
  {
   "cell_type": "code",
   "execution_count": 2,
   "id": "af2fcae2-1590-465d-b17a-6036df795f45",
   "metadata": {},
   "outputs": [],
   "source": [
    "import os\n",
    "import pandas as pd\n",
    "import numpy as np\n",
    "import datetime as dt\n",
    "##import yfinance as yf\n",
    "import re\n",
    "import requests\n",
    "from bs4 import BeautifulSoup\n",
    "#import reticker\n",
    "import nltk\n",
    "from nltk.corpus import stopwords\n",
    "from nltk.stem.wordnet import WordNetLemmatizer\n",
    "from nltk.sentiment.vader import SentimentIntensityAnalyzer"
   ]
  },
  {
   "cell_type": "code",
   "execution_count": 3,
   "id": "fb014f48-4aee-4ae4-a0af-9c9613435878",
   "metadata": {},
   "outputs": [],
   "source": [
    "##data = yf.download(tickers = \"gme\", period=\"2y\", interval = \"1h\")\n",
    "##data.head()\n",
    "\n",
    "####Match the dollar sign, one letter, and then anything that's not a space:\n",
    "\n",
    "## for i in df[\"title\"][:20]:\n",
    "    ##print(re.findall(r'[$][A-Za-z][\\S]*', str(i)))\n",
    "\n",
    "##extractor = reticker.TickerExtractor()\n",
    "\n",
    "##for i in df[\"title\"][:20]:\n",
    "    ##print(extractor.extract(i))"
   ]
  },
  {
   "cell_type": "code",
   "execution_count": 4,
   "id": "e8ec7afa-f07d-449a-97d0-e000a29af721",
   "metadata": {},
   "outputs": [
    {
     "data": {
      "text/html": [
       "<div>\n",
       "<style scoped>\n",
       "    .dataframe tbody tr th:only-of-type {\n",
       "        vertical-align: middle;\n",
       "    }\n",
       "\n",
       "    .dataframe tbody tr th {\n",
       "        vertical-align: top;\n",
       "    }\n",
       "\n",
       "    .dataframe thead th {\n",
       "        text-align: right;\n",
       "    }\n",
       "</style>\n",
       "<table border=\"1\" class=\"dataframe\">\n",
       "  <thead>\n",
       "    <tr style=\"text-align: right;\">\n",
       "      <th></th>\n",
       "      <th>title</th>\n",
       "      <th>score</th>\n",
       "      <th>id</th>\n",
       "      <th>url</th>\n",
       "      <th>comms_num</th>\n",
       "      <th>created</th>\n",
       "      <th>body</th>\n",
       "      <th>timestamp</th>\n",
       "    </tr>\n",
       "  </thead>\n",
       "  <tbody>\n",
       "    <tr>\n",
       "      <th>0</th>\n",
       "      <td>It's not about the money, it's about sending a...</td>\n",
       "      <td>55</td>\n",
       "      <td>l6ulcx</td>\n",
       "      <td>https://v.redd.it/6j75regs72e61</td>\n",
       "      <td>6</td>\n",
       "      <td>1.611863e+09</td>\n",
       "      <td>NaN</td>\n",
       "      <td>2021-01-28 21:37:41</td>\n",
       "    </tr>\n",
       "    <tr>\n",
       "      <th>1</th>\n",
       "      <td>Math Professor Scott Steiner says the numbers ...</td>\n",
       "      <td>110</td>\n",
       "      <td>l6uibd</td>\n",
       "      <td>https://v.redd.it/ah50lyny62e61</td>\n",
       "      <td>23</td>\n",
       "      <td>1.611862e+09</td>\n",
       "      <td>NaN</td>\n",
       "      <td>2021-01-28 21:32:10</td>\n",
       "    </tr>\n",
       "    <tr>\n",
       "      <th>2</th>\n",
       "      <td>Exit the system</td>\n",
       "      <td>0</td>\n",
       "      <td>l6uhhn</td>\n",
       "      <td>https://www.reddit.com/r/wallstreetbets/commen...</td>\n",
       "      <td>47</td>\n",
       "      <td>1.611862e+09</td>\n",
       "      <td>The CEO of NASDAQ pushed to halt trading “to g...</td>\n",
       "      <td>2021-01-28 21:30:35</td>\n",
       "    </tr>\n",
       "    <tr>\n",
       "      <th>3</th>\n",
       "      <td>NEW SEC FILING FOR GME! CAN SOMEONE LESS RETAR...</td>\n",
       "      <td>29</td>\n",
       "      <td>l6ugk6</td>\n",
       "      <td>https://sec.report/Document/0001193125-21-019848/</td>\n",
       "      <td>74</td>\n",
       "      <td>1.611862e+09</td>\n",
       "      <td>NaN</td>\n",
       "      <td>2021-01-28 21:28:57</td>\n",
       "    </tr>\n",
       "    <tr>\n",
       "      <th>4</th>\n",
       "      <td>Not to distract from GME, just thought our AMC...</td>\n",
       "      <td>71</td>\n",
       "      <td>l6ufgy</td>\n",
       "      <td>https://i.redd.it/4h2sukb662e61.jpg</td>\n",
       "      <td>156</td>\n",
       "      <td>1.611862e+09</td>\n",
       "      <td>NaN</td>\n",
       "      <td>2021-01-28 21:26:56</td>\n",
       "    </tr>\n",
       "  </tbody>\n",
       "</table>\n",
       "</div>"
      ],
      "text/plain": [
       "                                               title  score      id  \\\n",
       "0  It's not about the money, it's about sending a...     55  l6ulcx   \n",
       "1  Math Professor Scott Steiner says the numbers ...    110  l6uibd   \n",
       "2                                    Exit the system      0  l6uhhn   \n",
       "3  NEW SEC FILING FOR GME! CAN SOMEONE LESS RETAR...     29  l6ugk6   \n",
       "4  Not to distract from GME, just thought our AMC...     71  l6ufgy   \n",
       "\n",
       "                                                 url  comms_num       created  \\\n",
       "0                    https://v.redd.it/6j75regs72e61          6  1.611863e+09   \n",
       "1                    https://v.redd.it/ah50lyny62e61         23  1.611862e+09   \n",
       "2  https://www.reddit.com/r/wallstreetbets/commen...         47  1.611862e+09   \n",
       "3  https://sec.report/Document/0001193125-21-019848/         74  1.611862e+09   \n",
       "4                https://i.redd.it/4h2sukb662e61.jpg        156  1.611862e+09   \n",
       "\n",
       "                                                body            timestamp  \n",
       "0                                                NaN  2021-01-28 21:37:41  \n",
       "1                                                NaN  2021-01-28 21:32:10  \n",
       "2  The CEO of NASDAQ pushed to halt trading “to g...  2021-01-28 21:30:35  \n",
       "3                                                NaN  2021-01-28 21:28:57  \n",
       "4                                                NaN  2021-01-28 21:26:56  "
      ]
     },
     "execution_count": 4,
     "metadata": {},
     "output_type": "execute_result"
    }
   ],
   "source": [
    "df=pd.read_csv(\"reddit_wsb.csv\")\n",
    "df.head()"
   ]
  },
  {
   "cell_type": "code",
   "execution_count": 5,
   "id": "3f2b5dd3-2647-4a45-a435-c33dc4cb64f1",
   "metadata": {},
   "outputs": [
    {
     "name": "stdout",
     "output_type": "stream",
     "text": [
      "<class 'pandas.core.frame.DataFrame'>\n",
      "RangeIndex: 53187 entries, 0 to 53186\n",
      "Data columns (total 8 columns):\n",
      " #   Column     Non-Null Count  Dtype  \n",
      "---  ------     --------------  -----  \n",
      " 0   title      53187 non-null  object \n",
      " 1   score      53187 non-null  int64  \n",
      " 2   id         53187 non-null  object \n",
      " 3   url        53187 non-null  object \n",
      " 4   comms_num  53187 non-null  int64  \n",
      " 5   created    53187 non-null  float64\n",
      " 6   body       24738 non-null  object \n",
      " 7   timestamp  53187 non-null  object \n",
      "dtypes: float64(1), int64(2), object(5)\n",
      "memory usage: 3.2+ MB\n"
     ]
    }
   ],
   "source": [
    "df.info()"
   ]
  },
  {
   "cell_type": "code",
   "execution_count": 6,
   "id": "93e212f3-e45d-479a-840d-2b32695dcb96",
   "metadata": {},
   "outputs": [
    {
     "data": {
      "text/plain": [
       "title                object\n",
       "score                 int64\n",
       "id                   object\n",
       "url                  object\n",
       "comms_num             int64\n",
       "created             float64\n",
       "body                 object\n",
       "timestamp    datetime64[ns]\n",
       "dtype: object"
      ]
     },
     "execution_count": 6,
     "metadata": {},
     "output_type": "execute_result"
    }
   ],
   "source": [
    "#convert date column to datetime \n",
    "df['timestamp'] = pd.to_datetime(df['timestamp'], \n",
    "                                    format='%Y-%m-%dT%H:%M:%S.%f')\n",
    "df.dtypes"
   ]
  },
  {
   "cell_type": "code",
   "execution_count": 7,
   "id": "9a8bc421-8921-4479-9e72-73988cefddce",
   "metadata": {},
   "outputs": [],
   "source": [
    "##creating year, mont, dayofweek, hour, min, second columns for eda\n",
    "df['year'] = df['timestamp'].dt.year\n",
    "df['month'] = df['timestamp'].dt.month\n",
    "df['day'] = df['timestamp'].dt.dayofweek\n",
    "df['hour'] = df['timestamp'].dt.hour\n",
    "df['min'] = df['timestamp'].dt.minute\n",
    "df['sec'] = df['timestamp'].dt.second\n",
    "\n",
    "##we can get name of the days if we need to.\n",
    "##dayoftheweek = {0: 'Monday', 1: 'Tuesday', 2: 'Wednesday', 3: 'Thursday', 4: 'Friday', 5: 'Saturday', 6: 'Sunday'}\n",
    "##days = list(dayoftheweek.values())\n",
    "##df['day'] = df['timestamp'].apply(lambda x : dayoftheweek[x.weekday()])"
   ]
  },
  {
   "cell_type": "code",
   "execution_count": 8,
   "id": "f0f65aad-4768-410b-99c5-088ad596ff05",
   "metadata": {},
   "outputs": [],
   "source": [
    "df[\"body\"] = df[\"body\"].fillna(\"\")##fill nan's with empty\n",
    "df[\"original_text\"] = df[\"title\"] + ' ' + df[\"body\"]##concatane body and title to create a new column called text\n",
    "df['length'] = df['original_text'].apply(len) #create new column with the length of the text\n",
    "df = df.drop(columns = [\"body\", \"title\", \"id\", \"url\", \"created\"])##drop unrelated columns"
   ]
  },
  {
   "cell_type": "code",
   "execution_count": 9,
   "id": "228dd637-7eec-4d6f-b6fd-d8d516a5980f",
   "metadata": {},
   "outputs": [
    {
     "data": {
      "text/html": [
       "<div>\n",
       "<style scoped>\n",
       "    .dataframe tbody tr th:only-of-type {\n",
       "        vertical-align: middle;\n",
       "    }\n",
       "\n",
       "    .dataframe tbody tr th {\n",
       "        vertical-align: top;\n",
       "    }\n",
       "\n",
       "    .dataframe thead th {\n",
       "        text-align: right;\n",
       "    }\n",
       "</style>\n",
       "<table border=\"1\" class=\"dataframe\">\n",
       "  <thead>\n",
       "    <tr style=\"text-align: right;\">\n",
       "      <th></th>\n",
       "      <th>score</th>\n",
       "      <th>comms_num</th>\n",
       "      <th>timestamp</th>\n",
       "      <th>year</th>\n",
       "      <th>month</th>\n",
       "      <th>day</th>\n",
       "      <th>hour</th>\n",
       "      <th>min</th>\n",
       "      <th>sec</th>\n",
       "      <th>original_text</th>\n",
       "      <th>length</th>\n",
       "    </tr>\n",
       "  </thead>\n",
       "  <tbody>\n",
       "    <tr>\n",
       "      <th>0</th>\n",
       "      <td>55</td>\n",
       "      <td>6</td>\n",
       "      <td>2021-01-28 21:37:41</td>\n",
       "      <td>2021</td>\n",
       "      <td>1</td>\n",
       "      <td>3</td>\n",
       "      <td>21</td>\n",
       "      <td>37</td>\n",
       "      <td>41</td>\n",
       "      <td>It's not about the money, it's about sending a...</td>\n",
       "      <td>60</td>\n",
       "    </tr>\n",
       "    <tr>\n",
       "      <th>1</th>\n",
       "      <td>110</td>\n",
       "      <td>23</td>\n",
       "      <td>2021-01-28 21:32:10</td>\n",
       "      <td>2021</td>\n",
       "      <td>1</td>\n",
       "      <td>3</td>\n",
       "      <td>21</td>\n",
       "      <td>32</td>\n",
       "      <td>10</td>\n",
       "      <td>Math Professor Scott Steiner says the numbers ...</td>\n",
       "      <td>81</td>\n",
       "    </tr>\n",
       "    <tr>\n",
       "      <th>2</th>\n",
       "      <td>0</td>\n",
       "      <td>47</td>\n",
       "      <td>2021-01-28 21:30:35</td>\n",
       "      <td>2021</td>\n",
       "      <td>1</td>\n",
       "      <td>3</td>\n",
       "      <td>21</td>\n",
       "      <td>30</td>\n",
       "      <td>35</td>\n",
       "      <td>Exit the system The CEO of NASDAQ pushed to ha...</td>\n",
       "      <td>1335</td>\n",
       "    </tr>\n",
       "    <tr>\n",
       "      <th>3</th>\n",
       "      <td>29</td>\n",
       "      <td>74</td>\n",
       "      <td>2021-01-28 21:28:57</td>\n",
       "      <td>2021</td>\n",
       "      <td>1</td>\n",
       "      <td>3</td>\n",
       "      <td>21</td>\n",
       "      <td>28</td>\n",
       "      <td>57</td>\n",
       "      <td>NEW SEC FILING FOR GME! CAN SOMEONE LESS RETAR...</td>\n",
       "      <td>76</td>\n",
       "    </tr>\n",
       "    <tr>\n",
       "      <th>4</th>\n",
       "      <td>71</td>\n",
       "      <td>156</td>\n",
       "      <td>2021-01-28 21:26:56</td>\n",
       "      <td>2021</td>\n",
       "      <td>1</td>\n",
       "      <td>3</td>\n",
       "      <td>21</td>\n",
       "      <td>26</td>\n",
       "      <td>56</td>\n",
       "      <td>Not to distract from GME, just thought our AMC...</td>\n",
       "      <td>80</td>\n",
       "    </tr>\n",
       "  </tbody>\n",
       "</table>\n",
       "</div>"
      ],
      "text/plain": [
       "   score  comms_num           timestamp  year  month  day  hour  min  sec  \\\n",
       "0     55          6 2021-01-28 21:37:41  2021      1    3    21   37   41   \n",
       "1    110         23 2021-01-28 21:32:10  2021      1    3    21   32   10   \n",
       "2      0         47 2021-01-28 21:30:35  2021      1    3    21   30   35   \n",
       "3     29         74 2021-01-28 21:28:57  2021      1    3    21   28   57   \n",
       "4     71        156 2021-01-28 21:26:56  2021      1    3    21   26   56   \n",
       "\n",
       "                                       original_text  length  \n",
       "0  It's not about the money, it's about sending a...      60  \n",
       "1  Math Professor Scott Steiner says the numbers ...      81  \n",
       "2  Exit the system The CEO of NASDAQ pushed to ha...    1335  \n",
       "3  NEW SEC FILING FOR GME! CAN SOMEONE LESS RETAR...      76  \n",
       "4  Not to distract from GME, just thought our AMC...      80  "
      ]
     },
     "execution_count": 9,
     "metadata": {},
     "output_type": "execute_result"
    }
   ],
   "source": [
    "df.head()"
   ]
  },
  {
   "cell_type": "code",
   "execution_count": 10,
   "id": "e4bc204d-b326-42fe-9710-7f900b1254fd",
   "metadata": {},
   "outputs": [],
   "source": [
    "def clean_text_date(text):\n",
    "    text = text.lower()\n",
    "    \n",
    "    # remove emojis\n",
    "    text = text.encode('ascii','ignore')\n",
    "    text = text.decode()\n",
    "\n",
    "    # replacing handlers with empty string\n",
    "    text = re.sub('@[^\\s]+',\"\",text)\n",
    "    \n",
    "    # remove punctuations and numbers\n",
    "    text = re.sub('[^a-zA-Z]', ' ', text)\n",
    "    \n",
    "    # replacing URLs with empty string\n",
    "    text = re.sub(r\"http\\S+\", \"\",text)\n",
    "\n",
    "    # remove all the special characters\n",
    "    text = ' '.join(re.findall(r'\\w+', text))\n",
    "\n",
    "    # replacing single characters with empty string\n",
    "    text = re.sub(r'\\s+[a-zA-Z]\\s+', ' ', text)\n",
    "\n",
    "    # substituting multiple spaces with single space\n",
    "    text = re.sub(r'\\s+', ' ', text, flags=re.I)\n",
    "    \n",
    "    # remove stopwords\n",
    "    text = ' '.join([word for word in text.split() if not word in set(stopwords.words('english'))])\n",
    "    \n",
    "    # words to singular forms\n",
    "    lem = WordNetLemmatizer()\n",
    "    text = lem.lemmatize(text)\n",
    "    \n",
    "    return text"
   ]
  },
  {
   "cell_type": "code",
   "execution_count": 11,
   "id": "e02e5c46-9bd0-4fea-b89e-c899b724e39e",
   "metadata": {},
   "outputs": [],
   "source": [
    "# Text Preprocessing\n",
    "df[\"text\"] = df[\"original_text\"].apply(lambda x : clean_text_date(x))"
   ]
  },
  {
   "cell_type": "code",
   "execution_count": 12,
   "id": "9bc57799-d450-4dd8-a0f5-a934c4a5bb34",
   "metadata": {},
   "outputs": [
    {
     "data": {
      "text/html": [
       "<div>\n",
       "<style scoped>\n",
       "    .dataframe tbody tr th:only-of-type {\n",
       "        vertical-align: middle;\n",
       "    }\n",
       "\n",
       "    .dataframe tbody tr th {\n",
       "        vertical-align: top;\n",
       "    }\n",
       "\n",
       "    .dataframe thead th {\n",
       "        text-align: right;\n",
       "    }\n",
       "</style>\n",
       "<table border=\"1\" class=\"dataframe\">\n",
       "  <thead>\n",
       "    <tr style=\"text-align: right;\">\n",
       "      <th></th>\n",
       "      <th>score</th>\n",
       "      <th>comms_num</th>\n",
       "      <th>timestamp</th>\n",
       "      <th>year</th>\n",
       "      <th>month</th>\n",
       "      <th>day</th>\n",
       "      <th>hour</th>\n",
       "      <th>min</th>\n",
       "      <th>sec</th>\n",
       "      <th>original_text</th>\n",
       "      <th>length</th>\n",
       "      <th>text</th>\n",
       "    </tr>\n",
       "  </thead>\n",
       "  <tbody>\n",
       "    <tr>\n",
       "      <th>0</th>\n",
       "      <td>55</td>\n",
       "      <td>6</td>\n",
       "      <td>2021-01-28 21:37:41</td>\n",
       "      <td>2021</td>\n",
       "      <td>1</td>\n",
       "      <td>3</td>\n",
       "      <td>21</td>\n",
       "      <td>37</td>\n",
       "      <td>41</td>\n",
       "      <td>It's not about the money, it's about sending a...</td>\n",
       "      <td>60</td>\n",
       "      <td>money sending message</td>\n",
       "    </tr>\n",
       "    <tr>\n",
       "      <th>1</th>\n",
       "      <td>110</td>\n",
       "      <td>23</td>\n",
       "      <td>2021-01-28 21:32:10</td>\n",
       "      <td>2021</td>\n",
       "      <td>1</td>\n",
       "      <td>3</td>\n",
       "      <td>21</td>\n",
       "      <td>32</td>\n",
       "      <td>10</td>\n",
       "      <td>Math Professor Scott Steiner says the numbers ...</td>\n",
       "      <td>81</td>\n",
       "      <td>math professor scott steiner says numbers spel...</td>\n",
       "    </tr>\n",
       "    <tr>\n",
       "      <th>2</th>\n",
       "      <td>0</td>\n",
       "      <td>47</td>\n",
       "      <td>2021-01-28 21:30:35</td>\n",
       "      <td>2021</td>\n",
       "      <td>1</td>\n",
       "      <td>3</td>\n",
       "      <td>21</td>\n",
       "      <td>30</td>\n",
       "      <td>35</td>\n",
       "      <td>Exit the system The CEO of NASDAQ pushed to ha...</td>\n",
       "      <td>1335</td>\n",
       "      <td>exit system ceo nasdaq pushed halt trading giv...</td>\n",
       "    </tr>\n",
       "    <tr>\n",
       "      <th>3</th>\n",
       "      <td>29</td>\n",
       "      <td>74</td>\n",
       "      <td>2021-01-28 21:28:57</td>\n",
       "      <td>2021</td>\n",
       "      <td>1</td>\n",
       "      <td>3</td>\n",
       "      <td>21</td>\n",
       "      <td>28</td>\n",
       "      <td>57</td>\n",
       "      <td>NEW SEC FILING FOR GME! CAN SOMEONE LESS RETAR...</td>\n",
       "      <td>76</td>\n",
       "      <td>new sec filing gme someone less retarded pleas...</td>\n",
       "    </tr>\n",
       "    <tr>\n",
       "      <th>4</th>\n",
       "      <td>71</td>\n",
       "      <td>156</td>\n",
       "      <td>2021-01-28 21:26:56</td>\n",
       "      <td>2021</td>\n",
       "      <td>1</td>\n",
       "      <td>3</td>\n",
       "      <td>21</td>\n",
       "      <td>26</td>\n",
       "      <td>56</td>\n",
       "      <td>Not to distract from GME, just thought our AMC...</td>\n",
       "      <td>80</td>\n",
       "      <td>distract gme thought amc brothers aware</td>\n",
       "    </tr>\n",
       "  </tbody>\n",
       "</table>\n",
       "</div>"
      ],
      "text/plain": [
       "   score  comms_num           timestamp  year  month  day  hour  min  sec  \\\n",
       "0     55          6 2021-01-28 21:37:41  2021      1    3    21   37   41   \n",
       "1    110         23 2021-01-28 21:32:10  2021      1    3    21   32   10   \n",
       "2      0         47 2021-01-28 21:30:35  2021      1    3    21   30   35   \n",
       "3     29         74 2021-01-28 21:28:57  2021      1    3    21   28   57   \n",
       "4     71        156 2021-01-28 21:26:56  2021      1    3    21   26   56   \n",
       "\n",
       "                                       original_text  length  \\\n",
       "0  It's not about the money, it's about sending a...      60   \n",
       "1  Math Professor Scott Steiner says the numbers ...      81   \n",
       "2  Exit the system The CEO of NASDAQ pushed to ha...    1335   \n",
       "3  NEW SEC FILING FOR GME! CAN SOMEONE LESS RETAR...      76   \n",
       "4  Not to distract from GME, just thought our AMC...      80   \n",
       "\n",
       "                                                text  \n",
       "0                              money sending message  \n",
       "1  math professor scott steiner says numbers spel...  \n",
       "2  exit system ceo nasdaq pushed halt trading giv...  \n",
       "3  new sec filing gme someone less retarded pleas...  \n",
       "4            distract gme thought amc brothers aware  "
      ]
     },
     "execution_count": 12,
     "metadata": {},
     "output_type": "execute_result"
    }
   ],
   "source": [
    "df.head()"
   ]
  },
  {
   "cell_type": "code",
   "execution_count": 13,
   "id": "ce64bd96-b090-4b24-881c-47e504212b9b",
   "metadata": {},
   "outputs": [
    {
     "data": {
      "text/plain": [
       "1056"
      ]
     },
     "execution_count": 13,
     "metadata": {},
     "output_type": "execute_result"
    }
   ],
   "source": [
    "sum (df['text'].str.contains('bullish'))"
   ]
  },
  {
   "cell_type": "code",
   "execution_count": 14,
   "id": "1870533d-92bc-47f9-bd15-2f6058190756",
   "metadata": {},
   "outputs": [],
   "source": [
    "from nltk.sentiment.vader import SentimentIntensityAnalyzer\n",
    "sia = SentimentIntensityAnalyzer()"
   ]
  },
  {
   "cell_type": "code",
   "execution_count": 15,
   "id": "c12b9e65-7269-418a-9f24-3f21717e71ee",
   "metadata": {},
   "outputs": [
    {
     "data": {
      "text/plain": [
       "{'neg': 0.0, 'neu': 1.0, 'pos': 0.0, 'compound': 0.0}"
      ]
     },
     "execution_count": 15,
     "metadata": {},
     "output_type": "execute_result"
    }
   ],
   "source": [
    "a = 'bull'\n",
    "sia.polarity_scores(a)"
   ]
  },
  {
   "cell_type": "code",
   "execution_count": 16,
   "id": "717ce785-8546-40c8-993b-b01d5caac723",
   "metadata": {},
   "outputs": [],
   "source": [
    "df[\"neg\"] = df[\"text\"].apply(lambda x: sia.polarity_scores(x)[\"neg\"])\n",
    "df[\"neu\"] = df[\"text\"].apply(lambda x: sia.polarity_scores(x)[\"neu\"])\n",
    "df[\"pos\"] = df[\"text\"].apply(lambda x: sia.polarity_scores(x)[\"pos\"])\n",
    "df[\"compound\"] = df[\"text\"].apply(lambda x: sia.polarity_scores(x)[\"compound\"])"
   ]
  },
  {
   "cell_type": "code",
   "execution_count": 27,
   "id": "983c2273-d9e0-4d1f-932d-ee4fd1e01d91",
   "metadata": {},
   "outputs": [],
   "source": [
    "scores = {\"neg\":0, \"neu\":0, \"11-100\":0, \"pos\":0}\n",
    "\n",
    "for i in df[\"compound\"]:\n",
    "    if i < -0.2:\n",
    "        scores[\"neg\"] += 1\n",
    "    elif i < 0.2:\n",
    "        scores[\"neu\"] += 1\n",
    "    else:\n",
    "        scores[\"pos\"] += 1"
   ]
  },
  {
   "cell_type": "code",
   "execution_count": 28,
   "id": "0008e990-d143-4023-8266-6081b3c30cab",
   "metadata": {},
   "outputs": [
    {
     "data": {
      "image/png": "[encoded data removed]",
      "text/plain": [
       "<Figure size 360x216 with 1 Axes>"
      ]
     },
     "metadata": {
      "needs_background": "light"
     },
     "output_type": "display_data"
    }
   ],
   "source": [
    "import matplotlib.pyplot as plt\n",
    "fig = plt.figure(figsize=(5, 3))\n",
    "ax = fig.add_axes([0,0,1,1])\n",
    "score_label = [\"neg\", \"neu\", \"pos\"]\n",
    "value = [scores[\"neg\"], scores[\"neu\"], scores[\"pos\"]]\n",
    "ax.bar(score_label, value)\n",
    "plt.show()"
   ]
  },
  {
   "cell_type": "code",
   "execution_count": 19,
   "id": "93c538b4-629d-4ab2-833a-7f8d15fd0fbe",
   "metadata": {},
   "outputs": [],
   "source": [
    "new_words = {\n",
    "'citron': -4.0,  \n",
    "'hidenburg': -4.0,\n",
    "'green': 2.0,\n",
    "'hot': 2.0,\n",
    "'squeeze': 2.0,\n",
    "'ape': 2.0,\n",
    "'apes': 2.0,\n",
    "'apes together strong': 3.0,\n",
    "'roaring kitty': 2.0,\n",
    "'bull': 4.0,\n",
    "'bullish': 4.0,\n",
    "'bear': -4.0,\n",
    "'bearish': 4.0,\n",
    "'bag holder': -3.0,\n",
    "'bagholder': -3.0,\n",
    "'bag holding': -3.0,\n",
    "'bagholding': -3.0,\n",
    "'hold': 2.0,\n",
    "'hold the line': 3.0,\n",
    "'diamond': 3.0,\n",
    "'diamond hands': 3.0,\n",
    "'paper hands': -3.0,\n",
    "'weak hands': -3.0,\n",
    "'DD': 2.0,\n",
    "'double Down': 2.0,\n",
    "'due diligence': 2.0,\n",
    "'pump': -2.0,\n",
    "'pumping': -2.0,\n",
    "'dump': -2.0,\n",
    "'pump and dump': -3.0,\n",
    "'stonk': 2.0,\n",
    "'stonks': 2.0,\n",
    "'tendie' : 2.0,\n",
    "'tendies': 3.0,\n",
    "'YOLO': 2.0,\n",
    "'moon': 3.0,\n",
    "'mooning': 3.0,\n",
    "'to the moon': 4.0,\n",
    "'long': 2.0,\n",
    "'short': -2.0,\n",
    "'call': 4.0,\n",
    "'calls': 4.0,\n",
    "'put': -4.0,\n",
    "'puts': -4.0,\n",
    "'overvalued': -3.0,\n",
    "'undervalued': 3.0,\n",
    "'low': -2.0,\n",
    "'high': 2.0,\n",
    "'buy': 4.0,\n",
    "'sell': -4.0,\n",
    "'buy high sell low': -4.0,\n",
    "'buy the dip': 3.0,\n",
    "'drop': -3.0,\n",
    "'rebound': 3.0,\n",
    "'green': 2.0,\n",
    "'rip': -3.0,\n",
    "'offering': 2.0,\n",
    "'rocket': 3.0,\n",
    "'break': 2.0,\n",
    "'we like the stock': 4.0,\n",
    "'ATH': 4.0,\n",
    "'IRS': -2.0,\n",
    "'SEC': -3.0,\n",
    "'RH': -2.0,\n",
    "'robinhood': -2.0,\n",
    "'IPO': 2.0,\n",
    "'degenerates': -3.0,\n",
    "'Stimmy': 1.5,\n",
    "'checks' : 1.0,\n",
    "'stimmy checks': 2.0,\n",
    "'loss': -3.0,\n",
    "'loss porn': -4.0,\n",
    "'gain': 3.0,\n",
    "'gain porn': 3.0,\n",
    "'whale' : -1.0,\n",
    "'HODL' : 3.0,\n",
    "'autist': 2.0,\n",
    "'gamestonk': 2.0,\n",
    "'crayons': 2.0,\n",
    "'I eat crayons': 2.0,\n",
    "'boyfriend': 1.0,\n",
    "'FOMO': -2.0,\n",
    "'hedge': -2.0,\n",
    "'hedgies': -2.0,\n",
    "'hedge funds': -3.0,\n",
    "'retard': 2.0,\n",
    "'retards': 3.0\n",
    "}"
   ]
  },
  {
   "cell_type": "code",
   "execution_count": 20,
   "id": "fbb60e59-ef9e-443e-b2f7-3358320501db",
   "metadata": {},
   "outputs": [],
   "source": [
    "sia.lexicon.update(new_words)"
   ]
  },
  {
   "cell_type": "code",
   "execution_count": 21,
   "id": "bf7be277-1d4f-4de4-a83d-a48d7bf53174",
   "metadata": {},
   "outputs": [
    {
     "data": {
      "text/plain": [
       "{'neg': 0.667, 'neu': 0.0, 'pos': 0.333, 'compound': -0.5423}"
      ]
     },
     "execution_count": 21,
     "metadata": {},
     "output_type": "execute_result"
    }
   ],
   "source": [
    "a = 'i like citron'\n",
    "sia.polarity_scores(a)"
   ]
  },
  {
   "cell_type": "code",
   "execution_count": 22,
   "id": "88e12a35-a7f6-4809-be67-20dbd66f6744",
   "metadata": {},
   "outputs": [],
   "source": [
    "df[\"neg_\"] = df[\"text\"].apply(lambda x: sia.polarity_scores(x)[\"neg\"])\n",
    "df[\"neu_\"] = df[\"text\"].apply(lambda x: sia.polarity_scores(x)[\"neu\"])\n",
    "df[\"pos_\"] = df[\"text\"].apply(lambda x: sia.polarity_scores(x)[\"pos\"])\n",
    "df[\"compound_\"] = df[\"text\"].apply(lambda x: sia.polarity_scores(x)[\"compound\"])"
   ]
  },
  {
   "cell_type": "code",
   "execution_count": 29,
   "id": "317ebbd5-2548-47ee-aa95-8c2c254a31ac",
   "metadata": {},
   "outputs": [],
   "source": [
    "scores = {\"neg_\":0, \"neu_\":0, \"pos_\":0}\n",
    "\n",
    "for i in df[\"compound_\"]:\n",
    "    if i < -0.2:\n",
    "        scores[\"neg_\"] += 1\n",
    "    elif i < 0.2:\n",
    "        scores[\"neu_\"] += 1\n",
    "    else:\n",
    "        scores[\"pos_\"] += 1"
   ]
  },
  {
   "cell_type": "code",
   "execution_count": 30,
   "id": "c50d8b0f-219f-407a-8d60-ad281475df78",
   "metadata": {},
   "outputs": [
    {
     "data": {
      "image/png": "[encoded data removed]",
      "text/plain": [
       "<Figure size 360x216 with 1 Axes>"
      ]
     },
     "metadata": {
      "needs_background": "light"
     },
     "output_type": "display_data"
    }
   ],
   "source": [
    "import matplotlib.pyplot as plt\n",
    "fig = plt.figure(figsize=(5, 3))\n",
    "ax = fig.add_axes([0,0,1,1])\n",
    "score_label = [\"neg_\", \"neu_\", \"pos_\"]\n",
    "value = [scores[\"neg_\"], scores[\"neu_\"], scores[\"pos_\"]]\n",
    "ax.bar(score_label, value)\n",
    "plt.show()"
   ]
  },
  {
   "cell_type": "code",
   "execution_count": null,
   "id": "ef06a4a6-87fd-472b-b4fa-4d70a3ee28d1",
   "metadata": {},
   "outputs": [],
   "source": []
  }
 ],
 "metadata": {
  "kernelspec": {
   "display_name": "Python 3 (ipykernel)",
   "language": "python",
   "name": "python3"
  },
  "language_info": {
   "codemirror_mode": {
    "name": "ipython",
    "version": 3
   },
   "file_extension": ".py",
   "mimetype": "text/x-python",
   "name": "python",
   "nbconvert_exporter": "python",
   "pygments_lexer": "ipython3",
   "version": "3.8.2"
  }
 },
 "nbformat": 4,
 "nbformat_minor": 5
}
